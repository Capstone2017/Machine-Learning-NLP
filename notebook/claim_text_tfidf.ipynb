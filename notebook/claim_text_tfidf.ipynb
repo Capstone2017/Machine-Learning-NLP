{
 "cells": [
  {
   "cell_type": "code",
   "execution_count": 1,
   "metadata": {
    "collapsed": true
   },
   "outputs": [],
   "source": [
    "from sklearn.feature_extraction.text import CountVectorizer, TfidfTransformer, TfidfVectorizer\n",
    "from sklearn.multiclass import OneVsRestClassifier, OneVsOneClassifier\n",
    "from sklearn.svm import LinearSVC\n",
    "import pandas as pd\n",
    "import numpy as np"
   ]
  },
  {
   "cell_type": "code",
   "execution_count": 56,
   "metadata": {
    "collapsed": false
   },
   "outputs": [],
   "source": [
    "pinitial_train=pd.read_csv('/Volumes/XIAONAN PAS/Capstone/pgpub_claims_fulltext.csv',delimiter=',',nrows=30000,encoding='utf-8').dropna(subset=['claim_txt'])\n",
    "pfinal_train=pd.read_csv('/Volumes/XIAONAN PAS/Capstone/patent_claims_fulltext.csv',delimiter=',',nrows=30000,encoding='utf-8').dropna(subset=['claim_txt'])\n",
    "pinitial_test=pd.read_csv('/Volumes/XIAONAN PAS/Capstone/pgpub_claims_fulltext.csv',delimiter=',',nrows=30000,skiprows=range(1,30000),encoding='utf-8').dropna(subset=['claim_txt'])\n",
    "pfinal_test=pd.read_csv('/Volumes/XIAONAN PAS/Capstone/patent_claims_fulltext.csv',delimiter=',',nrows=30000,skiprows=range(1,30000),encoding='utf-8').dropna(subset=['claim_txt'])"
   ]
  },
  {
   "cell_type": "code",
   "execution_count": 57,
   "metadata": {
    "collapsed": false
   },
   "outputs": [],
   "source": [
    "x_train = pinitial_train['claim_txt'].tolist() + pfinal_train['claim_txt'].tolist()#.astype(str)\n",
    "y_train = np.append(np.zeros(len(pinitial_train)),np.ones(len(pfinal_train)))\n",
    "\n",
    "x_test = pinitial_test['claim_txt'].tolist()+pfinal_test['claim_txt'].tolist()\n",
    "y_test = np.append(np.zeros(len(pinitial_test)),np.ones(len(pfinal_test)))"
   ]
  },
  {
   "cell_type": "code",
   "execution_count": 58,
   "metadata": {
    "collapsed": false
   },
   "outputs": [],
   "source": [
    "x_train_1 = pinitial_train['claim_txt'].tolist()\n",
    "x_train_2 = pfinal_train['claim_txt'].tolist()"
   ]
  },
  {
   "cell_type": "code",
   "execution_count": 59,
   "metadata": {
    "collapsed": false
   },
   "outputs": [
    {
     "data": {
      "text/html": [
       "<div>\n",
       "<table border=\"1\" class=\"dataframe\">\n",
       "  <thead>\n",
       "    <tr style=\"text-align: right;\">\n",
       "      <th></th>\n",
       "      <th>pub_no</th>\n",
       "      <th>appl_id</th>\n",
       "      <th>claim_no</th>\n",
       "      <th>claim_txt</th>\n",
       "      <th>dependencies</th>\n",
       "      <th>ind_flg</th>\n",
       "    </tr>\n",
       "  </thead>\n",
       "  <tbody>\n",
       "    <tr>\n",
       "      <th>0</th>\n",
       "      <td>20010000001</td>\n",
       "      <td>9725796</td>\n",
       "      <td>11</td>\n",
       "      <td>The method of claim 10 comprising up to about ...</td>\n",
       "      <td>10</td>\n",
       "      <td>0</td>\n",
       "    </tr>\n",
       "    <tr>\n",
       "      <th>1</th>\n",
       "      <td>20010000001</td>\n",
       "      <td>9725796</td>\n",
       "      <td>16</td>\n",
       "      <td>The method of claim 15 wherein said sec-butano...</td>\n",
       "      <td>15</td>\n",
       "      <td>0</td>\n",
       "    </tr>\n",
       "    <tr>\n",
       "      <th>2</th>\n",
       "      <td>20010000001</td>\n",
       "      <td>9725796</td>\n",
       "      <td>4</td>\n",
       "      <td>The solvent mixture of claim 3 wherein said te...</td>\n",
       "      <td>3</td>\n",
       "      <td>0</td>\n",
       "    </tr>\n",
       "    <tr>\n",
       "      <th>3</th>\n",
       "      <td>20010000001</td>\n",
       "      <td>9725796</td>\n",
       "      <td>9</td>\n",
       "      <td>A method for cleaning an article in a vapor de...</td>\n",
       "      <td>NaN</td>\n",
       "      <td>1</td>\n",
       "    </tr>\n",
       "    <tr>\n",
       "      <th>4</th>\n",
       "      <td>20010000001</td>\n",
       "      <td>9725796</td>\n",
       "      <td>8</td>\n",
       "      <td>The solvent mixture of claim 7 wherein said se...</td>\n",
       "      <td>7</td>\n",
       "      <td>0</td>\n",
       "    </tr>\n",
       "  </tbody>\n",
       "</table>\n",
       "</div>"
      ],
      "text/plain": [
       "        pub_no  appl_id  claim_no  \\\n",
       "0  20010000001  9725796        11   \n",
       "1  20010000001  9725796        16   \n",
       "2  20010000001  9725796         4   \n",
       "3  20010000001  9725796         9   \n",
       "4  20010000001  9725796         8   \n",
       "\n",
       "                                           claim_txt dependencies  ind_flg  \n",
       "0  The method of claim 10 comprising up to about ...           10        0  \n",
       "1  The method of claim 15 wherein said sec-butano...           15        0  \n",
       "2  The solvent mixture of claim 3 wherein said te...            3        0  \n",
       "3  A method for cleaning an article in a vapor de...          NaN        1  \n",
       "4  The solvent mixture of claim 7 wherein said se...            7        0  "
      ]
     },
     "execution_count": 59,
     "metadata": {},
     "output_type": "execute_result"
    }
   ],
   "source": [
    "pinitial_train.head()"
   ]
  },
  {
   "cell_type": "code",
   "execution_count": 60,
   "metadata": {
    "collapsed": false
   },
   "outputs": [
    {
     "data": {
      "text/html": [
       "<div>\n",
       "<table border=\"1\" class=\"dataframe\">\n",
       "  <thead>\n",
       "    <tr style=\"text-align: right;\">\n",
       "      <th></th>\n",
       "      <th>pat_no</th>\n",
       "      <th>claim_no</th>\n",
       "      <th>claim_txt</th>\n",
       "      <th>dependencies</th>\n",
       "      <th>ind_flg</th>\n",
       "      <th>appl_id</th>\n",
       "    </tr>\n",
       "  </thead>\n",
       "  <tbody>\n",
       "    <tr>\n",
       "      <th>0</th>\n",
       "      <td>3930271</td>\n",
       "      <td>1</td>\n",
       "      <td>1. A golf glove comprising at least an index f...</td>\n",
       "      <td>NaN</td>\n",
       "      <td>1</td>\n",
       "      <td>NaN</td>\n",
       "    </tr>\n",
       "    <tr>\n",
       "      <th>1</th>\n",
       "      <td>3930271</td>\n",
       "      <td>4</td>\n",
       "      <td>4. A golf glove adapted for use on one hand of...</td>\n",
       "      <td>NaN</td>\n",
       "      <td>1</td>\n",
       "      <td>NaN</td>\n",
       "    </tr>\n",
       "    <tr>\n",
       "      <th>2</th>\n",
       "      <td>3930271</td>\n",
       "      <td>3</td>\n",
       "      <td>3. A glove comprising an index finger receptac...</td>\n",
       "      <td>NaN</td>\n",
       "      <td>1</td>\n",
       "      <td>NaN</td>\n",
       "    </tr>\n",
       "    <tr>\n",
       "      <th>3</th>\n",
       "      <td>3930271</td>\n",
       "      <td>2</td>\n",
       "      <td>2. A golf glove in accordance with claim 1 whe...</td>\n",
       "      <td>1</td>\n",
       "      <td>0</td>\n",
       "      <td>NaN</td>\n",
       "    </tr>\n",
       "    <tr>\n",
       "      <th>4</th>\n",
       "      <td>3930272</td>\n",
       "      <td>1</td>\n",
       "      <td>1. In combination with a height adjustable cri...</td>\n",
       "      <td>NaN</td>\n",
       "      <td>1</td>\n",
       "      <td>NaN</td>\n",
       "    </tr>\n",
       "  </tbody>\n",
       "</table>\n",
       "</div>"
      ],
      "text/plain": [
       "    pat_no  claim_no                                          claim_txt  \\\n",
       "0  3930271         1  1. A golf glove comprising at least an index f...   \n",
       "1  3930271         4  4. A golf glove adapted for use on one hand of...   \n",
       "2  3930271         3  3. A glove comprising an index finger receptac...   \n",
       "3  3930271         2  2. A golf glove in accordance with claim 1 whe...   \n",
       "4  3930272         1  1. In combination with a height adjustable cri...   \n",
       "\n",
       "  dependencies  ind_flg  appl_id  \n",
       "0          NaN        1      NaN  \n",
       "1          NaN        1      NaN  \n",
       "2          NaN        1      NaN  \n",
       "3            1        0      NaN  \n",
       "4          NaN        1      NaN  "
      ]
     },
     "execution_count": 60,
     "metadata": {},
     "output_type": "execute_result"
    }
   ],
   "source": [
    "pfinal_train.head()"
   ]
  },
  {
   "cell_type": "code",
   "execution_count": 61,
   "metadata": {
    "collapsed": false
   },
   "outputs": [
    {
     "name": "stdout",
     "output_type": "stream",
     "text": [
      "(59992, 59992)\n"
     ]
    }
   ],
   "source": [
    "print(len(x_train), len(y_train))"
   ]
  },
  {
   "cell_type": "code",
   "execution_count": 62,
   "metadata": {
    "collapsed": true
   },
   "outputs": [],
   "source": [
    "from sklearn.pipeline import Pipeline\n",
    "text_clf = Pipeline([('vect', CountVectorizer(ngram_range=(1, 2))),\n",
    "                    ('tfidf', TfidfTransformer()),\n",
    "                    ('clf', OneVsRestClassifier(LinearSVC(random_state=0)))\n",
    "                     ])"
   ]
  },
  {
   "cell_type": "code",
   "execution_count": 68,
   "metadata": {
    "collapsed": false
   },
   "outputs": [],
   "source": [
    "# fit using pipeline\n",
    "clf = text_clf.fit(x_train, y_train)\n"
   ]
  },
  {
   "cell_type": "code",
   "execution_count": 66,
   "metadata": {
    "collapsed": false
   },
   "outputs": [
    {
     "data": {
      "text/plain": [
       "0.99968329110548071"
      ]
     },
     "execution_count": 66,
     "metadata": {},
     "output_type": "execute_result"
    }
   ],
   "source": [
    "# predict\n",
    "#predicted = clf.predict(X_test)\n",
    "clf.score(x_train, y_train) \n"
   ]
  },
  {
   "cell_type": "code",
   "execution_count": 71,
   "metadata": {
    "collapsed": false
   },
   "outputs": [
    {
     "data": {
      "text/plain": [
       "0.85363698504526431"
      ]
     },
     "execution_count": 71,
     "metadata": {},
     "output_type": "execute_result"
    }
   ],
   "source": [
    "clf.score(x_test, y_test) "
   ]
  },
  {
   "cell_type": "code",
   "execution_count": null,
   "metadata": {
    "collapsed": true
   },
   "outputs": [],
   "source": []
  }
 ],
 "metadata": {
  "anaconda-cloud": {},
  "kernelspec": {
   "display_name": "Python [conda root]",
   "language": "python",
   "name": "conda-root-py"
  },
  "language_info": {
   "codemirror_mode": {
    "name": "ipython",
    "version": 2
   },
   "file_extension": ".py",
   "mimetype": "text/x-python",
   "name": "python",
   "nbconvert_exporter": "python",
   "pygments_lexer": "ipython2",
   "version": "2.7.12"
  }
 },
 "nbformat": 4,
 "nbformat_minor": 1
}
